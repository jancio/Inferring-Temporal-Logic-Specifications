{
 "cells": [
  {
   "cell_type": "code",
   "execution_count": null,
   "metadata": {},
   "outputs": [],
   "source": [
    "#####################################################################################################################\n",
    "# Inferring Temporal Logic Specifications for Robot-Assisted Feeding in Social Dining Settings\n",
    "#\n",
    "# Jan Ondras (janko@cs.cornell.edu, jo951030@gmail.com)\n",
    "# Project for Program Synthesis (CS 6172)\n",
    "# Cornell University, Fall 2021\n",
    "#####################################################################################################################"
   ]
  },
  {
   "cell_type": "code",
   "execution_count": 1,
   "metadata": {},
   "outputs": [],
   "source": [
    "# Merge results in pickle files\n",
    "\n",
    "import pickle\n",
    "from mergedeep import merge\n",
    "\n",
    "def merge_pickles(pickle_in1, pickle_in2, pickle_out):\n",
    "    with open(f'./cv_results/{pickle_out}.pkl', 'wb') as fout:\n",
    "        with open(f'./cv_results/{pickle_in1}.pkl', 'rb') as fin1:\n",
    "            with open(f'./cv_results/{pickle_in2}.pkl', 'rb') as fin2:\n",
    "                pickle.dump(merge(pickle.load(fin1), pickle.load(fin2)), fout)\n",
    "\n",
    "                \n",
    "merge_pickles('cv_results_solo_P1_', 'cv_results_solo_setPrim1__', 'cv_results_solo_setPrim1**')"
   ]
  },
  {
   "cell_type": "code",
   "execution_count": null,
   "metadata": {},
   "outputs": [],
   "source": []
  }
 ],
 "metadata": {
  "kernelspec": {
   "display_name": "Python 3 (ipykernel)",
   "language": "python",
   "name": "python3"
  },
  "language_info": {
   "codemirror_mode": {
    "name": "ipython",
    "version": 3
   },
   "file_extension": ".py",
   "mimetype": "text/x-python",
   "name": "python",
   "nbconvert_exporter": "python",
   "pygments_lexer": "ipython3",
   "version": "3.8.10"
  }
 },
 "nbformat": 4,
 "nbformat_minor": 4
}
