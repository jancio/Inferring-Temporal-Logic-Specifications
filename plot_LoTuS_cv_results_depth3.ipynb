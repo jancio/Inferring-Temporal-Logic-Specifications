{
 "cells": [
  {
   "cell_type": "code",
   "execution_count": null,
   "metadata": {},
   "outputs": [],
   "source": [
    "#####################################################################################################################\n",
    "# Inferring Temporal Logic Specifications for Robot-Assisted Feeding in Social Dining Settings\n",
    "#\n",
    "# Jan Ondras (janko@cs.cornell.edu, jo951030@gmail.com)\n",
    "# Project for Program Synthesis (CS 6172)\n",
    "# Cornell University, Fall 2021\n",
    "#####################################################################################################################\n",
    "# Plot results from LoTuS cross-validation for maximum tree depth of 3\n",
    "#####################################################################################################################"
   ]
  },
  {
   "cell_type": "code",
   "execution_count": 3,
   "metadata": {},
   "outputs": [],
   "source": [
    "# Load data\n",
    "\n",
    "import numpy as np\n",
    "import time\n",
    "import pickle\n",
    "import json\n",
    "import matplotlib.pyplot as plt\n",
    "from tabulate import tabulate\n",
    "from IPython.display import display, Math\n",
    "\n",
    "\n",
    "feature_sources = [\n",
    "    'solo',\n",
    "    'duo',\n",
    "    # 'trio'\n",
    "]\n",
    "primitives_sets = [\n",
    "    'setPrim1',\n",
    "    'setPrim2',\n",
    "    'setPrim12'\n",
    "]\n",
    "\n",
    "res = {}\n",
    "for feature_source in feature_sources:\n",
    "    res[feature_source] = {}\n",
    "    for primitives_set in primitives_sets:\n",
    "        with open(f'./cv_results/cv_results_{feature_source}_{primitives_set}_3.pkl', 'rb') as f:\n",
    "        with open(f'./cv_results/cv_results_{feature_source}_{primitives_set}_3_compareWindows.pkl', 'rb') as f:\n",
    "            res[feature_source][primitives_set] = pickle.load(f)"
   ]
  },
  {
   "cell_type": "code",
   "execution_count": null,
   "metadata": {},
   "outputs": [],
   "source": [
    "# 1.) Optimal window size over feature types for the Solo feature source and the P1 primitives type\n",
    "\n",
    "import matplotlib\n",
    "\n",
    "max_tree_depth = 3\n",
    "# window_size = 60\n",
    "feature_source = 'solo'\n",
    "primitives_set = 'setPrim1'\n",
    "\n",
    "feature_types = [\n",
    "    # 'tR2',\n",
    "    'R2',\n",
    "    'dR2',\n",
    "    'R2dR2',\n",
    "    # 'tR2dR2',\n",
    "]\n",
    "feature_types_labels = {\n",
    "    'R2': '$R_2$',\n",
    "    'dR2': '$dR_2$',\n",
    "    'R2dR2': '$R_2dR_2$'\n",
    "}\n",
    "window_sizes = [15, 30, 45, 60, 75, 90, 105, 120, 135, 150, 165, 180, 195, 210]\n",
    "\n",
    "\n",
    "for partition in ['test']:\n",
    "    # plt.figure(figsize=[15,6])\n",
    "    plt.figure()\n",
    "    for feature_type in feature_types:\n",
    "        means = np.array([ res[feature_source][primitives_set][feature_type][window_size][max_tree_depth][f'{partition}_mcrs_pruned_mean'] for window_size in window_sizes ])\n",
    "        stds = np.array([ res[feature_source][primitives_set][feature_type][window_size][max_tree_depth][f'{partition}_mcrs_pruned_std'] for window_size in window_sizes ])\n",
    "        plt.plot(window_sizes, means, 'o-', label=feature_types_labels[feature_type])\n",
    "        plt.fill_between(window_sizes,  means - stds,  means + stds, alpha=.2)\n",
    "    plt.xlabel('Window size (# frames)')\n",
    "    plt.ylabel(f'{partition.capitalize()} misclassification rate (MCR)')\n",
    "    plt.xticks(window_sizes, window_sizes)\n",
    "    # plt.ylim(0, 0.25)\n",
    "    # plt.ylim(0, 0.4)\n",
    "    plt.legend()\n",
    "    plt.show()\n"
   ]
  },
  {
   "cell_type": "code",
   "execution_count": 4,
   "metadata": {
    "tags": []
   },
   "outputs": [
    {
     "name": "stdout",
     "output_type": "stream",
     "text": [
      "╒══════════════════╤════════════════╤══════════════╤══════════════╤══════════════╕\n",
      "│ Feature source   │ Feature type   │ P_1          │ P_2          │ P_{12}       │\n",
      "╞══════════════════╪════════════════╪══════════════╪══════════════╪══════════════╡\n",
      "│ Solo             │ R_2            │ 0.210(0.011) │ 0.221(0.008) │ 0.208(0.010) │\n",
      "├──────────────────┼────────────────┼──────────────┼──────────────┼──────────────┤\n",
      "│ Solo             │ dR_2           │ 0.291(0.022) │ 0.283(0.028) │ 0.275(0.017) │\n",
      "├──────────────────┼────────────────┼──────────────┼──────────────┼──────────────┤\n",
      "│ Solo             │ R_2dR_2        │ 0.180(0.019) │ 0.209(0.022) │ 0.185(0.019) │\n",
      "├──────────────────┼────────────────┼──────────────┼──────────────┼──────────────┤\n",
      "│ Duo              │ R_2            │ 0.371(0.016) │ 0.379(0.014) │ 0.367(0.018) │\n",
      "├──────────────────┼────────────────┼──────────────┼──────────────┼──────────────┤\n",
      "│ Duo              │ dR_2           │ 0.463(0.018) │ 0.456(0.015) │ 0.432(0.016) │\n",
      "├──────────────────┼────────────────┼──────────────┼──────────────┼──────────────┤\n",
      "│ Duo              │ R_2dR_2        │ 0.370(0.020) │ 0.378(0.017) │ 0.364(0.017) │\n",
      "╘══════════════════╧════════════════╧══════════════╧══════════════╧══════════════╛\n",
      "\\begin{tabular}{lllll}\n",
      "\\toprule\n",
      " Feature source   & Feature type   & P\\_1                     & P\\_2                     & P\\_\\{12\\}                  \\\\\n",
      "\\midrule\n",
      " Solo             & R\\_2            & \\textbackslash{}gradient\\{0.210\\}(0.011) & \\textbackslash{}gradient\\{0.221\\}(0.008) & \\textbackslash{}gradient\\{0.208\\}(0.010) \\\\\n",
      " Solo             & dR\\_2           & \\textbackslash{}gradient\\{0.291\\}(0.022) & \\textbackslash{}gradient\\{0.283\\}(0.028) & \\textbackslash{}gradient\\{0.275\\}(0.017) \\\\\n",
      " Solo             & R\\_2dR\\_2        & \\textbackslash{}gradient\\{0.180\\}(0.019) & \\textbackslash{}gradient\\{0.209\\}(0.022) & \\textbackslash{}gradient\\{0.185\\}(0.019) \\\\\n",
      " Duo              & R\\_2            & \\textbackslash{}gradient\\{0.371\\}(0.016) & \\textbackslash{}gradient\\{0.379\\}(0.014) & \\textbackslash{}gradient\\{0.367\\}(0.018) \\\\\n",
      " Duo              & dR\\_2           & \\textbackslash{}gradient\\{0.463\\}(0.018) & \\textbackslash{}gradient\\{0.456\\}(0.015) & \\textbackslash{}gradient\\{0.432\\}(0.016) \\\\\n",
      " Duo              & R\\_2dR\\_2        & \\textbackslash{}gradient\\{0.370\\}(0.020) & \\textbackslash{}gradient\\{0.378\\}(0.017) & \\textbackslash{}gradient\\{0.364\\}(0.017) \\\\\n",
      "\\bottomrule\n",
      "\\end{tabular}\n"
     ]
    }
   ],
   "source": [
    "# 2.) Print table of test MCR (mean, std)\n",
    "\n",
    "max_tree_depth = 3\n",
    "window_size = 60\n",
    "\n",
    "def get_tab_data(key, with_color_gradient=False):\n",
    "    columns = [[], [], []]\n",
    "    for i, primitives_set in enumerate(primitives_sets):\n",
    "        for feature_source in feature_sources:\n",
    "            for feature_type in feature_types:\n",
    "                r = res[feature_source][primitives_set][feature_type][window_size][max_tree_depth]\n",
    "                mean = f\"{r[f'{key}_mean']:.3f}\"\n",
    "                columns[i].append( (\"\\gradient{\" + mean + \"}\" if with_color_gradient else mean) + f\"({r[f'{key}_std']:.3f})\")\n",
    "    return np.concatenate((\n",
    "        [[f'{feature_types_labels[feature_type][1:-1]}' for feature_source in feature_sources for feature_type in feature_types]],\n",
    "        [columns[0]], [columns[1]], [columns[2]]\n",
    "    ), axis=0).T\n",
    "\n",
    "\n",
    "headers = [\n",
    "    'Feature source', 'Feature type',\n",
    "    'P_1', 'P_2', 'P_{12}'\n",
    "]\n",
    "feature_sources_labels = [f'{feature_source.capitalize()}' for feature_source in feature_sources for feature_type in feature_types]\n",
    "\n",
    "print(tabulate(get_tab_data('test_mcrs_pruned'), headers=headers, \n",
    "               tablefmt='fancy_grid', \n",
    "               showindex=feature_sources_labels, \n",
    "               numalign='center'\n",
    "              ))\n",
    "\n",
    "# Add color gradients for LaTex\n",
    "print(tabulate(get_tab_data('test_mcrs_pruned', True), headers=headers, \n",
    "               tablefmt='latex_booktabs', \n",
    "               showindex=feature_sources_labels, \n",
    "               numalign='center'\n",
    "              ))"
   ]
  },
  {
   "cell_type": "code",
   "execution_count": 5,
   "metadata": {},
   "outputs": [
    {
     "name": "stdout",
     "output_type": "stream",
     "text": [
      "╒══════════════════╤════════════════╤════════╤═════════╤══════════╕\n",
      "│ Feature source   │ Feature type   │ P_1    │ P_2     │ P_{12}   │\n",
      "╞══════════════════╪════════════════╪════════╪═════════╪══════════╡\n",
      "│ Solo             │ R_2            │ 10(0)  │ 284(11) │ 292(20)  │\n",
      "├──────────────────┼────────────────┼────────┼─────────┼──────────┤\n",
      "│ Solo             │ dR_2           │ 9(1)   │ 248(44) │ 251(16)  │\n",
      "├──────────────────┼────────────────┼────────┼─────────┼──────────┤\n",
      "│ Solo             │ R_2dR_2        │ 23(2)  │ 531(69) │ 514(41)  │\n",
      "├──────────────────┼────────────────┼────────┼─────────┼──────────┤\n",
      "│ Duo              │ R_2            │ 16(1)  │ 399(22) │ 409(22)  │\n",
      "├──────────────────┼────────────────┼────────┼─────────┼──────────┤\n",
      "│ Duo              │ dR_2           │ 13(1)  │ 298(16) │ 307(26)  │\n",
      "├──────────────────┼────────────────┼────────┼─────────┼──────────┤\n",
      "│ Duo              │ R_2dR_2        │ 47(15) │ 721(49) │ 739(57)  │\n",
      "╘══════════════════╧════════════════╧════════╧═════════╧══════════╛\n",
      "\\begin{tabular}{lllll}\n",
      "\\toprule\n",
      " Feature source   & Feature type   & P\\_1               & P\\_2                & P\\_\\{12\\}             \\\\\n",
      "\\midrule\n",
      " Solo             & R\\_2            & \\textbackslash{}gradient\\{10\\}(0)  & \\textbackslash{}gradient\\{284\\}(11) & \\textbackslash{}gradient\\{292\\}(20) \\\\\n",
      " Solo             & dR\\_2           & \\textbackslash{}gradient\\{9\\}(1)   & \\textbackslash{}gradient\\{248\\}(44) & \\textbackslash{}gradient\\{251\\}(16) \\\\\n",
      " Solo             & R\\_2dR\\_2        & \\textbackslash{}gradient\\{23\\}(2)  & \\textbackslash{}gradient\\{531\\}(69) & \\textbackslash{}gradient\\{514\\}(41) \\\\\n",
      " Duo              & R\\_2            & \\textbackslash{}gradient\\{16\\}(1)  & \\textbackslash{}gradient\\{399\\}(22) & \\textbackslash{}gradient\\{409\\}(22) \\\\\n",
      " Duo              & dR\\_2           & \\textbackslash{}gradient\\{13\\}(1)  & \\textbackslash{}gradient\\{298\\}(16) & \\textbackslash{}gradient\\{307\\}(26) \\\\\n",
      " Duo              & R\\_2dR\\_2        & \\textbackslash{}gradient\\{47\\}(15) & \\textbackslash{}gradient\\{721\\}(49) & \\textbackslash{}gradient\\{739\\}(57) \\\\\n",
      "\\bottomrule\n",
      "\\end{tabular}\n"
     ]
    }
   ],
   "source": [
    "# 3.) Print table of decision tree learning times (mean, std)\n",
    "\n",
    "def get_tab_data(key, with_color_gradient=False):\n",
    "    columns = [[], [], []]\n",
    "    for i, primitives_set in enumerate(primitives_sets):\n",
    "        for feature_source in feature_sources:\n",
    "            for feature_type in feature_types:\n",
    "                r = res[feature_source][primitives_set][feature_type][window_size][max_tree_depth]\n",
    "                mean = f\"{r[f'{key}_mean']:.0f}\"\n",
    "                columns[i].append( (\"\\gradient{\" + mean + \"}\" if with_color_gradient else mean) + f\"({r[f'{key}_std']:.0f})\")\n",
    "    return np.concatenate((\n",
    "        [[f'{feature_types_labels[feature_type][1:-1]}' for feature_source in feature_sources for feature_type in feature_types]],\n",
    "        [columns[0]], [columns[1]], [columns[2]]\n",
    "    ), axis=0).T\n",
    "\n",
    "print(tabulate(get_tab_data('times'), headers=headers, \n",
    "               tablefmt='fancy_grid', \n",
    "               showindex=feature_sources_labels, \n",
    "               numalign='center'\n",
    "              ))\n",
    "\n",
    "# Add color gradients for LaTex\n",
    "print(tabulate(get_tab_data('times', True), headers=headers, \n",
    "               tablefmt='latex_booktabs', \n",
    "               showindex=feature_sources_labels, \n",
    "               numalign='center'\n",
    "              ))"
   ]
  },
  {
   "cell_type": "code",
   "execution_count": 10,
   "metadata": {
    "tags": []
   },
   "outputs": [
    {
     "name": "stdout",
     "output_type": "stream",
     "text": [
      "=========================================================================\n",
      " setPrim1 solo R2\n"
     ]
    },
    {
     "data": {
      "text/latex": [
       "$\\displaystyle (\\square_{[1.08,1.79]}{}_{i}\\theta_p>0.0856 \\wedge \\square_{[1.94,1.97]}{}_{i}\\theta_y>0.18)$"
      ],
      "text/plain": [
       "<IPython.core.display.Math object>"
      ]
     },
     "metadata": {},
     "output_type": "display_data"
    },
    {
     "name": "stdout",
     "output_type": "stream",
     "text": [
      "\n",
      " (\\square_{[1.08,1.79]}{}_{i}\\theta_p>0.0856 \\wedge \\square_{[1.94,1.97]}{}_{i}\\theta_y>0.18)\n"
     ]
    },
    {
     "data": {
      "text/latex": [
       "$\\displaystyle (\\square_{[1.15,1.97]}{}_{i}\\theta_p>0.0953 \\wedge \\diamond_{[1.7,1.96]}{}_{i}\\theta_y>0.17)$"
      ],
      "text/plain": [
       "<IPython.core.display.Math object>"
      ]
     },
     "metadata": {},
     "output_type": "display_data"
    },
    {
     "name": "stdout",
     "output_type": "stream",
     "text": [
      "\n",
      " (\\square_{[1.15,1.97]}{}_{i}\\theta_p>0.0953 \\wedge \\diamond_{[1.7,1.96]}{}_{i}\\theta_y>0.17)\n"
     ]
    },
    {
     "data": {
      "text/latex": [
       "$\\displaystyle (\\square_{[1.19,1.93]}{}_{i}\\theta_p>0.0958 \\wedge \\diamond_{[1.33,1.95]}{}_{i}\\theta_y>0.171)$"
      ],
      "text/plain": [
       "<IPython.core.display.Math object>"
      ]
     },
     "metadata": {},
     "output_type": "display_data"
    },
    {
     "name": "stdout",
     "output_type": "stream",
     "text": [
      "\n",
      " (\\square_{[1.19,1.93]}{}_{i}\\theta_p>0.0958 \\wedge \\diamond_{[1.33,1.95]}{}_{i}\\theta_y>0.171)\n"
     ]
    },
    {
     "data": {
      "text/latex": [
       "$\\displaystyle (\\square_{[1.12,1.96]}{}_{i}\\theta_p>0.0743 \\wedge (\\square_{[1.94,1.97]}{}_{i}\\theta_y>0.202 \\vee (\\diamond_{[1.94,1.97]}{}_{i}\\theta_y<0.202 \\wedge \\diamond_{[1.61,1.97]}{}_{i}\\theta_p>0.495)))$"
      ],
      "text/plain": [
       "<IPython.core.display.Math object>"
      ]
     },
     "metadata": {},
     "output_type": "display_data"
    },
    {
     "name": "stdout",
     "output_type": "stream",
     "text": [
      "\n",
      " (\\square_{[1.12,1.96]}{}_{i}\\theta_p>0.0743 \\wedge (\\square_{[1.94,1.97]}{}_{i}\\theta_y>0.202 \\vee (\\diamond_{[1.94,1.97]}{}_{i}\\theta_y<0.202 \\wedge \\diamond_{[1.61,1.97]}{}_{i}\\theta_p>0.495)))\n"
     ]
    },
    {
     "data": {
      "text/latex": [
       "$\\displaystyle (\\square_{[1.14,1.8]}{}_{i}\\theta_p>0.0955 \\wedge (\\square_{[1.94,1.97]}{}_{i}\\theta_y>0.203 \\vee (\\diamond_{[1.94,1.97]}{}_{i}\\theta_y<0.203 \\wedge \\diamond_{[1.3,1.97]}{}_{i}\\theta_p>0.512)))$"
      ],
      "text/plain": [
       "<IPython.core.display.Math object>"
      ]
     },
     "metadata": {},
     "output_type": "display_data"
    },
    {
     "name": "stdout",
     "output_type": "stream",
     "text": [
      "\n",
      " (\\square_{[1.14,1.8]}{}_{i}\\theta_p>0.0955 \\wedge (\\square_{[1.94,1.97]}{}_{i}\\theta_y>0.203 \\vee (\\diamond_{[1.94,1.97]}{}_{i}\\theta_y<0.203 \\wedge \\diamond_{[1.3,1.97]}{}_{i}\\theta_p>0.512)))\n",
      "=========================================================================\n",
      " setPrim1 duo R2\n"
     ]
    },
    {
     "data": {
      "text/latex": [
       "$\\displaystyle (\\square_{[1.39,1.93]}{}_{k}\\theta_y<0.143 \\vee (\\diamond_{[1.39,1.93]}{}_{k}\\theta_y>0.143 \\wedge (\\diamond_{[0.5,1.12]}{}_{j}\\theta_y>0.083 \\wedge \\square_{[0.0012,0.55]}{}_{k}\\theta_p>0.178)))$"
      ],
      "text/plain": [
       "<IPython.core.display.Math object>"
      ]
     },
     "metadata": {},
     "output_type": "display_data"
    },
    {
     "name": "stdout",
     "output_type": "stream",
     "text": [
      "\n",
      " (\\square_{[1.39,1.93]}{}_{k}\\theta_y<0.143 \\vee (\\diamond_{[1.39,1.93]}{}_{k}\\theta_y>0.143 \\wedge (\\diamond_{[0.5,1.12]}{}_{j}\\theta_y>0.083 \\wedge \\square_{[0.0012,0.55]}{}_{k}\\theta_p>0.178)))\n"
     ]
    },
    {
     "data": {
      "text/latex": [
       "$\\displaystyle \\diamond_{[1.36,1.77]}{}_{k}\\theta_y<-0.0278$"
      ],
      "text/plain": [
       "<IPython.core.display.Math object>"
      ]
     },
     "metadata": {},
     "output_type": "display_data"
    },
    {
     "name": "stdout",
     "output_type": "stream",
     "text": [
      "\n",
      " \\diamond_{[1.36,1.77]}{}_{k}\\theta_y<-0.0278\n"
     ]
    },
    {
     "data": {
      "text/latex": [
       "$\\displaystyle (\\square_{[1.24,1.94]}{}_{k}\\theta_y<0.144 \\wedge (\\diamond_{[0.0108,0.931]}{}_{k}\\theta_p>-0.119 \\wedge \\diamond_{[1e-06,1.97]}{}_{j}\\theta_p<0.278))$"
      ],
      "text/plain": [
       "<IPython.core.display.Math object>"
      ]
     },
     "metadata": {},
     "output_type": "display_data"
    },
    {
     "name": "stdout",
     "output_type": "stream",
     "text": [
      "\n",
      " (\\square_{[1.24,1.94]}{}_{k}\\theta_y<0.144 \\wedge (\\diamond_{[0.0108,0.931]}{}_{k}\\theta_p>-0.119 \\wedge \\diamond_{[1e-06,1.97]}{}_{j}\\theta_p<0.278))\n"
     ]
    },
    {
     "data": {
      "text/latex": [
       "$\\displaystyle ((\\square_{[0.828,1.95]}{}_{k}\\theta_y>0.0335 \\wedge (\\square_{[0.242,1.7]}{}_{j}\\theta_p>-0.0865 \\wedge \\diamond_{[1e-06,1.76]}{}_{k}\\theta_p>0.482)) \\vee (\\diamond_{[0.828,1.95]}{}_{k}\\theta_y<0.0335 \\wedge \\diamond_{[1e-06,1.97]}{}_{j}\\theta_p<0.277))$"
      ],
      "text/plain": [
       "<IPython.core.display.Math object>"
      ]
     },
     "metadata": {},
     "output_type": "display_data"
    },
    {
     "name": "stdout",
     "output_type": "stream",
     "text": [
      "\n",
      " ((\\square_{[0.828,1.95]}{}_{k}\\theta_y>0.0335 \\wedge (\\square_{[0.242,1.7]}{}_{j}\\theta_p>-0.0865 \\wedge \\diamond_{[1e-06,1.76]}{}_{k}\\theta_p>0.482)) \\vee (\\diamond_{[0.828,1.95]}{}_{k}\\theta_y<0.0335 \\wedge \\diamond_{[1e-06,1.97]}{}_{j}\\theta_p<0.277))\n"
     ]
    },
    {
     "data": {
      "text/latex": [
       "$\\displaystyle (\\diamond_{[1.48,1.86]}{}_{k}\\theta_y<0.134 \\wedge \\diamond_{[0.0166,0.268]}{}_{j}\\theta_p<0.314)$"
      ],
      "text/plain": [
       "<IPython.core.display.Math object>"
      ]
     },
     "metadata": {},
     "output_type": "display_data"
    },
    {
     "name": "stdout",
     "output_type": "stream",
     "text": [
      "\n",
      " (\\diamond_{[1.48,1.86]}{}_{k}\\theta_y<0.134 \\wedge \\diamond_{[0.0166,0.268]}{}_{j}\\theta_p<0.314)\n"
     ]
    }
   ],
   "source": [
    "# 4.) Print sample formulas\n",
    "\n",
    "feature_type_to_features = {\n",
    "    'R2': [r'{}_{i}\\theta_p', r'{}_{i}\\theta_y', r'{}_{j}\\theta_p', r'{}_{j}\\theta_y', r'{}_{k}\\theta_p', r'{}_{k}\\theta_y'],\n",
    "    # 'dR2': [r'd\\theta_p', r'd\\theta_y'],\n",
    "    # 'R2dR2': [r'\\theta_p', r'\\theta_y', r'd\\theta_p', r'd\\theta_y']\n",
    "}\n",
    "\n",
    "for feature_source in feature_sources:        \n",
    "    for primitives_set in ['setPrim1']: #, 'setPrim2', 'setPrim12']:\n",
    "        for feature_type in ['R2']:\n",
    "            print(\"=========================================================================\\n\",primitives_set, feature_source, feature_type)\n",
    "            # Find shortest/longest formula or iterate over all\n",
    "            #formula = max(res[feature_source][primitives_set][feature_type][window_size][max_tree_depth]['formulas_pruned'], key=len)\n",
    "            for formula in res[feature_source][primitives_set][feature_type][window_size][max_tree_depth]['formulas_pruned']:\n",
    "                # Replace temporal operators\n",
    "                formula = formula.replace('F_', '\\diamond_').replace('G_', '\\square_')\n",
    "                # Adjust range of feature types for duo and trio (works only for R2 feature type)\n",
    "                start_idx = 0\n",
    "                end_idx = 2\n",
    "                if feature_source == 'duo':\n",
    "                    start_idx = 2\n",
    "                    end_idx = 6\n",
    "                elif feature_source == 'trio':\n",
    "                    start_idx = 0\n",
    "                    end_idx = 6\n",
    "                # Replace features\n",
    "                for i, feature in enumerate(feature_type_to_features[feature_type][start_idx:end_idx]):\n",
    "                    formula = formula.replace(\"x_{\" + str(i+1) + \"}\", feature)\n",
    "                display(Math(formula))\n",
    "                print(\"\\n\",formula)\n",
    "                \n",
    "# Selection\n",
    "# setPrim1 duo R2\n",
    "# (\\square_{[1.39,1.93]}{}_{k}\\theta_y<0.143 \\vee (\\diamond_{[1.39,1.93]}{}_{k}\\theta_y>0.143 \\wedge (\\diamond_{[0.5,1.12]}{}_{j}\\theta_y>0.083 \\wedge \\square_{[0.0012,0.55]}{}_{k}\\theta_p>0.178)))\n",
    "# \\diamond_{[1.36,1.77]}{}_{k}\\theta_y<-0.0278\n",
    "# (\\diamond_{[1.48,1.86]}{}_{k}\\theta_y<0.134 \\wedge \\diamond_{[0.0166,0.268]}{}_{j}\\theta_p<0.314)\n"
   ]
  },
  {
   "cell_type": "code",
   "execution_count": 5,
   "metadata": {
    "collapsed": true,
    "jupyter": {
     "outputs_hidden": true,
     "source_hidden": true
    },
    "tags": []
   },
   "outputs": [
    {
     "data": {
      "image/png": "[encoded data removed]",
      "text/plain": [
       "<Figure size 1080x432 with 1 Axes>"
      ]
     },
     "metadata": {
      "needs_background": "light"
     },
     "output_type": "display_data"
    },
    {
     "data": {
      "image/png": "[encoded data removed]",
      "text/plain": [
       "<Figure size 1080x432 with 1 Axes>"
      ]
     },
     "metadata": {
      "needs_background": "light"
     },
     "output_type": "display_data"
    }
   ],
   "source": [
    "# Compare setPrim for solo\n",
    "# TODO bar plot\n",
    "\n",
    "max_tree_depth = 5\n",
    "window_size = 75\n",
    "feature_source = 'solo'\n",
    "\n",
    "feature_types = [\n",
    "    'tR2',\n",
    "    'R2',\n",
    "    'dR2',\n",
    "    'R2dR2',\n",
    "    'tR2dR2',\n",
    "]\n",
    "primitives_sets = [\n",
    "    'setPrim1',\n",
    "    'setPrim2',\n",
    "    'setPrim12'\n",
    "]\n",
    "# Unpruned\n",
    "# for partition in ['train', 'test']:\n",
    "#     plt.figure(figsize=[15,6])\n",
    "#     for feature_type in feature_types:\n",
    "#         for max_tree_depth in max_tree_depths:\n",
    "#             means = np.array([ cv_results[feature_type][window_size][max_tree_depth][f'{partition}_mcrs_mean'] for window_size in window_sizes ])\n",
    "#             stds = np.array([ cv_results[feature_type][window_size][max_tree_depth][f'{partition}_mcrs_std'] for window_size in window_sizes ])\n",
    "#             plt.plot(window_sizes, means, 'o-', label=feature_type + '_' + str(max_tree_depth))\n",
    "#             plt.fill_between(window_sizes,  means - stds,  means + stds, alpha=.2)\n",
    "#     plt.xlabel('Window size (# frames)')\n",
    "#     plt.ylabel(f'{partition.capitalize()} MCR')\n",
    "#     plt.xticks(window_sizes, window_sizes) #, rotation=45)\n",
    "#     plt.legend()\n",
    "#     plt.show()\n",
    "\n",
    "\n",
    "# Pruned\n",
    "# for feature_type in feature_types:\n",
    "#     for partition in ['train', 'test']:\n",
    "#         plt.figure(figsize=[15,6])\n",
    "#         for max_tree_depth in max_tree_depths:\n",
    "#             means = np.array([ cv_results[feature_type][window_size][max_tree_depth][f'{partition}_mcrs_pruned_mean'] for window_size in window_sizes ])\n",
    "#             stds = np.array([ cv_results[feature_type][window_size][max_tree_depth][f'{partition}_mcrs_pruned_std'] for window_size in window_sizes ])\n",
    "#             plt.plot(window_sizes, means, 'o-', label=feature_type + '_' + str(max_tree_depth))\n",
    "#             plt.fill_between(window_sizes,  means - stds,  means + stds, alpha=.2)\n",
    "#         plt.xlabel('Window size (# frames)')\n",
    "#         plt.ylabel(f'{partition.capitalize()} MCR')\n",
    "#         plt.xticks(window_sizes, window_sizes) #, rotation=45)\n",
    "#         plt.ylim(0, 0.4)\n",
    "#         plt.legend()\n",
    "#         plt.show()\n",
    "ps = np.arange(len(primitives_sets))\n",
    "\n",
    "\n",
    "for partition in ['train', 'test']:\n",
    "    plt.figure(figsize=[15,6])\n",
    "    for feature_type in feature_types:\n",
    "\n",
    "        means = np.array([ res[p][feature_type][window_size][max_tree_depth][f'{partition}_mcrs_pruned_mean'] for p in primitives_sets ])\n",
    "        stds = np.array([ res[p][feature_type][window_size][max_tree_depth][f'{partition}_mcrs_pruned_std'] for p in primitives_sets ])\n",
    "        plt.plot(ps, means, 'o-', label=feature_type + '_' + str(max_tree_depth))\n",
    "        plt.fill_between(ps,  means - stds,  means + stds, alpha=.2)\n",
    "    #plt.xlabel('Window size (# frames)')\n",
    "    plt.ylabel(f'{partition.capitalize()} MCR')\n",
    "    #plt.xticks(window_sizes, window_sizes) #, rotation=45)\n",
    "    # plt.ylim(0, 0.25)\n",
    "    # plt.ylim(0, 0.4)\n",
    "    plt.legend()\n",
    "    plt.show()\n"
   ]
  },
  {
   "cell_type": "code",
   "execution_count": null,
   "metadata": {},
   "outputs": [],
   "source": []
  }
 ],
 "metadata": {
  "interpreter": {
   "hash": "916dbcbb3f70747c44a77c7bcd40155683ae19c65e1c03b4aa3499c5328201f1"
  },
  "kernelspec": {
   "display_name": "Python 3 (ipykernel)",
   "language": "python",
   "name": "python3"
  },
  "language_info": {
   "codemirror_mode": {
    "name": "ipython",
    "version": 3
   },
   "file_extension": ".py",
   "mimetype": "text/x-python",
   "name": "python",
   "nbconvert_exporter": "python",
   "pygments_lexer": "ipython3",
   "version": "3.8.10"
  }
 },
 "nbformat": 4,
 "nbformat_minor": 4
}
